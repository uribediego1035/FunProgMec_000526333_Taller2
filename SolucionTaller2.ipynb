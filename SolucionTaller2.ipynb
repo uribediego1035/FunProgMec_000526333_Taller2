{
  "nbformat": 4,
  "nbformat_minor": 0,
  "metadata": {
    "colab": {
      "provenance": [],
      "authorship_tag": "ABX9TyM8JDl6PDy+Ug5ZdAyHEmqH",
      "include_colab_link": true
    },
    "kernelspec": {
      "name": "python3",
      "display_name": "Python 3"
    },
    "language_info": {
      "name": "python"
    }
  },
  "cells": [
    {
      "cell_type": "markdown",
      "metadata": {
        "id": "view-in-github",
        "colab_type": "text"
      },
      "source": [
        "<a href=\"https://colab.research.google.com/github/uribediego1035/FunProgMec_000526333_Taller2/blob/main/SolucionTaller2.ipynb\" target=\"_parent\"><img src=\"https://colab.research.google.com/assets/colab-badge.svg\" alt=\"Open In Colab\"/></a>"
      ]
    },
    {
      "cell_type": "code",
      "execution_count": null,
      "metadata": {
        "id": "QbVFAGvpygp9"
      },
      "outputs": [],
      "source": [
        "\n"
      ]
    },
    {
      "cell_type": "markdown",
      "source": [
        "## solucion de taller 2 \n",
        "### fundamentos de programcion - ingenieria mecanica upb 202310\n",
        "- diego alejandro uribe ochoa\n",
        "- 000526333\n",
        "-alejoruribe55@gamil.com\n"
      ],
      "metadata": {
        "id": "ahzgzorVzP2s"
      }
    },
    {
      "cell_type": "markdown",
      "source": [],
      "metadata": {
        "id": "WxV8O1_WzNVF"
      }
    },
    {
      "cell_type": "code",
      "source": [
        "# tiempo\n",
        "t_1 = 3\n",
        "\n",
        "t_2 = 10 \n",
        "\n",
        "# posicion inicial\n",
        "\n",
        "x_0 = 5\n",
        "\n",
        " # velocidad inicial\n",
        "\n",
        "v_0 =4\n",
        "\n",
        " # aceleracion inicial \n",
        "\n",
        "a = - 2\n",
        "\n",
        "c=0.5\n",
        "\n",
        "x_1 = x_0 + v_0*t_1 + c*a*t_1**2\n",
        "print(x_1)\n",
        "\n",
        "x_2 = x_0 + v_0*t_2 + c*a*t_2**2\n",
        "print(x_2)\n",
        "\n",
        "\n",
        "\n"
      ],
      "metadata": {
        "colab": {
          "base_uri": "https://localhost:8080/"
        },
        "id": "1-TPR4-41Lbh",
        "outputId": "808a5427-573e-4a8a-a8a7-45ce7e3db7bf"
      },
      "execution_count": 1,
      "outputs": [
        {
          "output_type": "stream",
          "name": "stdout",
          "text": [
            "8.0\n",
            "-55.0\n"
          ]
        }
      ]
    },
    {
      "cell_type": "code",
      "source": [
        "## from report \n",
        "\n",
        "# distancia 1\n",
        "\n",
        "x_1 = 1\n",
        "\n",
        "x_2 = -1\n",
        "\n",
        "y_1 = 1\n",
        "\n",
        "y_2 = -1\n",
        "\n",
        "d_1 = ((x_2 - x_1 )**2 + (y_2 - y_1)**2)**0.5\n",
        "print(d_1)\n",
        " \n",
        " # distancia 2\n",
        "\n",
        "x_1  = -2\n",
        "\n",
        "x_2  = 4\n",
        "\n",
        "y_1 = 0\n",
        "\n",
        "y_2 = 5\n",
        "\n",
        "d_2 = ((x_2 - x_1)**2 + (y_2 - y_1)**2)**0.5\n",
        "print(d_2)\n",
        "\n",
        "\n",
        "\n"
      ],
      "metadata": {
        "colab": {
          "base_uri": "https://localhost:8080/"
        },
        "id": "KYu4ZsbE3euX",
        "outputId": "0e6de012-83a6-4bfc-fad8-7d7cfb4192b7"
      },
      "execution_count": 6,
      "outputs": [
        {
          "output_type": "stream",
          "name": "stdout",
          "text": [
            "2.8284271247461903\n",
            "7.810249675906654\n"
          ]
        }
      ]
    },
    {
      "cell_type": "markdown",
      "source": [],
      "metadata": {
        "id": "QiJA9v5Bq9J7"
      }
    },
    {
      "cell_type": "code",
      "source": [
        "A = - 3\n",
        "\n",
        "B = 3\n",
        "\n",
        "C = 4\n",
        "\n",
        "D = 0\n",
        "print( A <= B)\n",
        "print( B > C ) \n",
        "print( A !=C and B > A)\n",
        "print( B < C or B > A)\n",
        "print( A != B )\n",
        "print( A - D > C)\n",
        "print( D + C >= A* B)\n",
        "print( A * C == 10 or B * A < 3)\n",
        "print( B * C + D > D * 5)\n",
        "print( 2 * A == - D * 4)\n",
        "\n",
        "\n",
        "\n",
        "\n"
      ],
      "metadata": {
        "colab": {
          "base_uri": "https://localhost:8080/"
        },
        "id": "uRv__NIl8IWE",
        "outputId": "62babd7b-c84f-447b-a818-28dbb30afda0"
      },
      "execution_count": null,
      "outputs": [
        {
          "output_type": "stream",
          "name": "stdout",
          "text": [
            "True\n",
            "False\n",
            "True\n",
            "True\n",
            "True\n",
            "False\n",
            "True\n",
            "True\n",
            "True\n",
            "False\n"
          ]
        }
      ]
    },
    {
      "cell_type": "code",
      "source": [],
      "metadata": {
        "id": "d9ZseiTQD9Gb"
      },
      "execution_count": null,
      "outputs": []
    }
  ]
}