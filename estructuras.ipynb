{
  "nbformat": 4,
  "nbformat_minor": 0,
  "metadata": {
    "colab": {
      "provenance": [],
      "authorship_tag": "ABX9TyOQTqJM30Asj9LzcwzgbywF"
    },
    "kernelspec": {
      "name": "python3",
      "display_name": "Python 3"
    },
    "language_info": {
      "name": "python"
    }
  },
  "cells": [
    {
      "cell_type": "markdown",
      "source": [
        "# IF SENCILLO"
      ],
      "metadata": {
        "id": "APQmTlRGDYN0"
      }
    },
    {
      "cell_type": "code",
      "source": [
        "A = 5 \n",
        "B = 3\n",
        "C = -2 \n",
        "\n"
      ],
      "metadata": {
        "id": "cXT_Akp0Atm7"
      },
      "execution_count": 21,
      "outputs": []
    },
    {
      "cell_type": "code",
      "source": [
        "if A > B: \n",
        "  print(\"A es mayor que B\") "
      ],
      "metadata": {
        "colab": {
          "base_uri": "https://localhost:8080/"
        },
        "id": "XfdzuHK0AuqH",
        "outputId": "6bfe0e5c-cc63-478f-d065-2512ce34240b"
      },
      "execution_count": 19,
      "outputs": [
        {
          "output_type": "stream",
          "name": "stdout",
          "text": [
            "A es mayor que B\n"
          ]
        }
      ]
    },
    {
      "cell_type": "code",
      "source": [
        " if A > B: \n",
        "  print(\"A es menor que B\")"
      ],
      "metadata": {
        "colab": {
          "base_uri": "https://localhost:8080/"
        },
        "id": "sOhcKGeABdiQ",
        "outputId": "a5e0237c-d139-4985-f425-946d8d1b5127"
      },
      "execution_count": 20,
      "outputs": [
        {
          "output_type": "stream",
          "name": "stdout",
          "text": [
            "A es menor que B\n"
          ]
        }
      ]
    },
    {
      "cell_type": "markdown",
      "source": [
        "# SENTENCIAS ELSE"
      ],
      "metadata": {
        "id": "_yPKA_jpDcvc"
      }
    },
    {
      "cell_type": "code",
      "source": [
        "A = 3\n",
        "B = 5\n",
        "C = -4"
      ],
      "metadata": {
        "id": "tZ3lXj2RBfOw"
      },
      "execution_count": 5,
      "outputs": []
    },
    {
      "cell_type": "code",
      "source": [
        "\n",
        "\n",
        "if A > B: \n",
        "    print(\"A es mayor que B\") \n",
        "else: \n",
        "    print(\"A es menor o igual que B\")"
      ],
      "metadata": {
        "colab": {
          "base_uri": "https://localhost:8080/"
        },
        "id": "zyMdcYJHEZvp",
        "outputId": "b7439e7b-bd79-426b-8f56-4befd2946d4c"
      },
      "execution_count": 9,
      "outputs": [
        {
          "output_type": "stream",
          "name": "stdout",
          "text": [
            "A es menor o igual que B\n"
          ]
        }
      ]
    },
    {
      "cell_type": "code",
      "source": [],
      "metadata": {
        "id": "NapeeQqnEzKh"
      },
      "execution_count": null,
      "outputs": []
    },
    {
      "cell_type": "markdown",
      "source": [
        "# SENTENCES ELIF"
      ],
      "metadata": {
        "id": "xqXB5irrFL-k"
      }
    },
    {
      "cell_type": "code",
      "source": [
        "A = 4\n",
        "B = 2\n",
        "if A > B: \n",
        " print(\"A es mayor que B\") \n",
        "elif A < B: \n",
        "     print(\"A es menor que B\") \n",
        "else: \n",
        "  print(\"A es igual a B\")\n"
      ],
      "metadata": {
        "colab": {
          "base_uri": "https://localhost:8080/"
        },
        "id": "XVsStRICFOnw",
        "outputId": "c409ff9a-f97d-4597-8cb8-2f97dbe8bd49"
      },
      "execution_count": 14,
      "outputs": [
        {
          "output_type": "stream",
          "name": "stdout",
          "text": [
            "A es mayor que B\n"
          ]
        }
      ]
    },
    {
      "cell_type": "code",
      "source": [],
      "metadata": {
        "id": "nRd0sgCKGAbI"
      },
      "execution_count": null,
      "outputs": []
    }
  ]
}